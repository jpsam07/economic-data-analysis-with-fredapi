{
 "cells": [
  {
   "cell_type": "markdown",
   "id": "b2cb80e0-7b02-4fb3-abc1-a12f691ea5f6",
   "metadata": {},
   "source": [
    "# Economic Data Analysis with FRED API"
   ]
  },
  {
   "cell_type": "markdown",
   "id": "f1aff844-59bd-43bb-8bcf-430b37b7616c",
   "metadata": {},
   "source": [
    "## 1. Import libraries and modules"
   ]
  },
  {
   "cell_type": "code",
   "execution_count": null,
   "id": "0aaf393d-2ab9-4cc6-9dbf-6c9cb1098b67",
   "metadata": {},
   "outputs": [],
   "source": [
    "# Data manipulation\n",
    "import pandas as pd\n",
    "import numpy as np\n",
    "pd.set_option('max_columns', 500)\n",
    "\n",
    "# Plotting\n",
    "import matplotlib.pyplot as plt\n",
    "import plotly.express as px\n",
    "\n",
    "\n",
    "# Plot aesthetics\n",
    "plt.style.use('fivethirtyeight')\n",
    "color_pal = plt.rcParams['axes.prop_cycle'].by_key()['color']\n",
    "\n",
    "# FRED API\n",
    "import requests\n"
   ]
  }
 ],
 "metadata": {
  "kernelspec": {
   "display_name": "Python 3 (ipykernel)",
   "language": "python",
   "name": "python3"
  },
  "language_info": {
   "codemirror_mode": {
    "name": "ipython",
    "version": 3
   },
   "file_extension": ".py",
   "mimetype": "text/x-python",
   "name": "python",
   "nbconvert_exporter": "python",
   "pygments_lexer": "ipython3",
   "version": "3.11.6"
  }
 },
 "nbformat": 4,
 "nbformat_minor": 5
}
