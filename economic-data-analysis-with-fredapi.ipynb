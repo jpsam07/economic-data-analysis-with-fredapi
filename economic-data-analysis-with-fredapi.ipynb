{
 "cells": [
  {
   "cell_type": "markdown",
   "id": "01a4b967",
   "metadata": {
    "_cell_guid": "b1076dfc-b9ad-4769-8c92-a6c4dae69d19",
    "_uuid": "8f2839f25d086af736a60e9eeb907d3b93b6e0e5",
    "papermill": {
     "duration": 0.003884,
     "end_time": "2023-11-21T16:32:18.718129",
     "exception": false,
     "start_time": "2023-11-21T16:32:18.714245",
     "status": "completed"
    },
    "tags": []
   },
   "source": [
    "# Economic Data Analysis with FRED API"
   ]
  },
  {
   "cell_type": "markdown",
   "id": "9c484fcc",
   "metadata": {
    "papermill": {
     "duration": 0.005022,
     "end_time": "2023-11-21T16:32:18.726784",
     "exception": false,
     "start_time": "2023-11-21T16:32:18.721762",
     "status": "completed"
    },
    "tags": []
   },
   "source": [
    "# 1. Install  FRED API"
   ]
  },
  {
   "cell_type": "code",
   "execution_count": 1,
   "id": "a228e006",
   "metadata": {
    "execution": {
     "iopub.execute_input": "2023-11-21T16:32:18.735916Z",
     "iopub.status.busy": "2023-11-21T16:32:18.735414Z",
     "iopub.status.idle": "2023-11-21T16:32:35.277510Z",
     "shell.execute_reply": "2023-11-21T16:32:35.276046Z"
    },
    "papermill": {
     "duration": 16.550544,
     "end_time": "2023-11-21T16:32:35.280752",
     "exception": false,
     "start_time": "2023-11-21T16:32:18.730208",
     "status": "completed"
    },
    "tags": []
   },
   "outputs": [
    {
     "name": "stdout",
     "output_type": "stream",
     "text": [
      "Collecting fredapi\r\n",
      "  Obtaining dependency information for fredapi from https://files.pythonhosted.org/packages/96/d4/f81fa9f67775a6a4b9e2cd8487239d61a9698cb2b9c02a5a2897d310f7a4/fredapi-0.5.1-py3-none-any.whl.metadata\r\n",
      "  Downloading fredapi-0.5.1-py3-none-any.whl.metadata (5.0 kB)\r\n",
      "Requirement already satisfied: pandas in /opt/conda/lib/python3.10/site-packages (from fredapi) (2.0.3)\r\n",
      "Requirement already satisfied: python-dateutil>=2.8.2 in /opt/conda/lib/python3.10/site-packages (from pandas->fredapi) (2.8.2)\r\n",
      "Requirement already satisfied: pytz>=2020.1 in /opt/conda/lib/python3.10/site-packages (from pandas->fredapi) (2023.3)\r\n",
      "Requirement already satisfied: tzdata>=2022.1 in /opt/conda/lib/python3.10/site-packages (from pandas->fredapi) (2023.3)\r\n",
      "Requirement already satisfied: numpy>=1.21.0 in /opt/conda/lib/python3.10/site-packages (from pandas->fredapi) (1.24.3)\r\n",
      "Requirement already satisfied: six>=1.5 in /opt/conda/lib/python3.10/site-packages (from python-dateutil>=2.8.2->pandas->fredapi) (1.16.0)\r\n",
      "Downloading fredapi-0.5.1-py3-none-any.whl (11 kB)\r\n",
      "Installing collected packages: fredapi\r\n",
      "Successfully installed fredapi-0.5.1\r\n"
     ]
    }
   ],
   "source": [
    "!pip install fredapi"
   ]
  },
  {
   "cell_type": "code",
   "execution_count": 2,
   "id": "6d8cb4f7",
   "metadata": {
    "execution": {
     "iopub.execute_input": "2023-11-21T16:32:35.291919Z",
     "iopub.status.busy": "2023-11-21T16:32:35.291087Z",
     "iopub.status.idle": "2023-11-21T16:32:49.008511Z",
     "shell.execute_reply": "2023-11-21T16:32:49.006975Z"
    },
    "papermill": {
     "duration": 13.726681,
     "end_time": "2023-11-21T16:32:49.011560",
     "exception": false,
     "start_time": "2023-11-21T16:32:35.284879",
     "status": "completed"
    },
    "tags": []
   },
   "outputs": [
    {
     "name": "stdout",
     "output_type": "stream",
     "text": [
      "Name: fredapi\r\n",
      "Version: 0.5.1\r\n",
      "Summary: Python API for Federal Reserve Economic Data (FRED) from St. Louis Fed\r\n",
      "Home-page: https://github.com/mortada/fredapi\r\n",
      "Author: Mortada Mehyar\r\n",
      "Author-email: \r\n",
      "License: \r\n",
      "Location: /opt/conda/lib/python3.10/site-packages\r\n",
      "Requires: pandas\r\n",
      "Required-by: \r\n"
     ]
    }
   ],
   "source": [
    "!pip show fredapi"
   ]
  },
  {
   "cell_type": "markdown",
   "id": "ac373f6b",
   "metadata": {
    "papermill": {
     "duration": 0.003954,
     "end_time": "2023-11-21T16:32:49.019785",
     "exception": false,
     "start_time": "2023-11-21T16:32:49.015831",
     "status": "completed"
    },
    "tags": []
   },
   "source": [
    "## 2. Import libraries"
   ]
  },
  {
   "cell_type": "code",
   "execution_count": 3,
   "id": "a43a1ee0",
   "metadata": {
    "execution": {
     "iopub.execute_input": "2023-11-21T16:32:49.030615Z",
     "iopub.status.busy": "2023-11-21T16:32:49.030175Z",
     "iopub.status.idle": "2023-11-21T16:32:50.920637Z",
     "shell.execute_reply": "2023-11-21T16:32:50.919475Z"
    },
    "papermill": {
     "duration": 1.899516,
     "end_time": "2023-11-21T16:32:50.923509",
     "exception": false,
     "start_time": "2023-11-21T16:32:49.023993",
     "status": "completed"
    },
    "tags": []
   },
   "outputs": [],
   "source": [
    "# Data manipulation\n",
    "import pandas as pd\n",
    "import numpy as np\n",
    "pd.set_option('display.max_columns', 500)\n",
    "\n",
    "# Plotting\n",
    "import matplotlib.pyplot as plt\n",
    "import plotly.express as px\n",
    "\n",
    "\n",
    "# Plot aesthetics\n",
    "plt.style.use('fivethirtyeight')\n",
    "color_pal = plt.rcParams['axes.prop_cycle'].by_key()['color']\n",
    "\n",
    "# FRED API from kaggle secrets\n",
    "from fredapi import Fred\n",
    "\n",
    "from kaggle_secrets import UserSecretsClient\n",
    "user_secrets = UserSecretsClient()\n",
    "fred_key = user_secrets.get_secret('fred-api')\n"
   ]
  },
  {
   "cell_type": "markdown",
   "id": "f966061e",
   "metadata": {
    "papermill": {
     "duration": 0.004085,
     "end_time": "2023-11-21T16:32:50.932224",
     "exception": false,
     "start_time": "2023-11-21T16:32:50.928139",
     "status": "completed"
    },
    "tags": []
   },
   "source": [
    "## 3. Create FRED object"
   ]
  },
  {
   "cell_type": "raw",
   "id": "25366fac",
   "metadata": {
    "papermill": {
     "duration": 0.004151,
     "end_time": "2023-11-21T16:32:50.940724",
     "exception": false,
     "start_time": "2023-11-21T16:32:50.936573",
     "status": "completed"
    },
    "tags": []
   },
   "source": [
    "fred = Fred(api_key=fred_key)"
   ]
  }
 ],
 "metadata": {
  "kaggle": {
   "accelerator": "none",
   "dataSources": [],
   "dockerImageVersionId": 30587,
   "isGpuEnabled": false,
   "isInternetEnabled": true,
   "language": "python",
   "sourceType": "notebook"
  },
  "kernelspec": {
   "display_name": "Python 3",
   "language": "python",
   "name": "python3"
  },
  "language_info": {
   "codemirror_mode": {
    "name": "ipython",
    "version": 3
   },
   "file_extension": ".py",
   "mimetype": "text/x-python",
   "name": "python",
   "nbconvert_exporter": "python",
   "pygments_lexer": "ipython3",
   "version": "3.10.12"
  },
  "papermill": {
   "default_parameters": {},
   "duration": 36.563583,
   "end_time": "2023-11-21T16:32:51.567876",
   "environment_variables": {},
   "exception": null,
   "input_path": "__notebook__.ipynb",
   "output_path": "__notebook__.ipynb",
   "parameters": {},
   "start_time": "2023-11-21T16:32:15.004293",
   "version": "2.4.0"
  }
 },
 "nbformat": 4,
 "nbformat_minor": 5
}
